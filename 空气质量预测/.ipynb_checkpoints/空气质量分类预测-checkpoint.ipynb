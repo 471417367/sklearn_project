{
 "cells": [
  {
   "cell_type": "markdown",
   "metadata": {},
   "source": [
    "### 空气质量预测模型\n",
    "#### 简介\n",
    ">##### *随着人们生活质量的提高，越来越多的开始关注自己生活环境的空气质量。采用传统方法评价空气质量存在局限性和不合理性，因此需要更全面、客观以及准确的评价方法。*  \n",
    "下面我们利用影响空气质量的一些成分，以及他们对应的空气等级，来建立一个分类预测模型，实现对空气质量的评价。"
   ]
  },
  {
   "cell_type": "code",
   "execution_count": 1,
   "metadata": {},
   "outputs": [
    {
     "data": {
      "text/html": [
       "<div>\n",
       "<style scoped>\n",
       "    .dataframe tbody tr th:only-of-type {\n",
       "        vertical-align: middle;\n",
       "    }\n",
       "\n",
       "    .dataframe tbody tr th {\n",
       "        vertical-align: top;\n",
       "    }\n",
       "\n",
       "    .dataframe thead th {\n",
       "        text-align: right;\n",
       "    }\n",
       "</style>\n",
       "<table border=\"1\" class=\"dataframe\">\n",
       "  <thead>\n",
       "    <tr style=\"text-align: right;\">\n",
       "      <th></th>\n",
       "      <th>SO2</th>\n",
       "      <th>NO</th>\n",
       "      <th>NO2</th>\n",
       "      <th>NOx</th>\n",
       "      <th>PM10</th>\n",
       "      <th>PM2-5</th>\n",
       "      <th>空气等级</th>\n",
       "    </tr>\n",
       "  </thead>\n",
       "  <tbody>\n",
       "    <tr>\n",
       "      <th>0</th>\n",
       "      <td>0.031</td>\n",
       "      <td>0.0</td>\n",
       "      <td>0.046</td>\n",
       "      <td>0.047</td>\n",
       "      <td>0.085</td>\n",
       "      <td>0.058</td>\n",
       "      <td>I</td>\n",
       "    </tr>\n",
       "    <tr>\n",
       "      <th>1</th>\n",
       "      <td>0.022</td>\n",
       "      <td>0.0</td>\n",
       "      <td>0.053</td>\n",
       "      <td>0.053</td>\n",
       "      <td>0.070</td>\n",
       "      <td>0.048</td>\n",
       "      <td>II</td>\n",
       "    </tr>\n",
       "  </tbody>\n",
       "</table>\n",
       "</div>"
      ],
      "text/plain": [
       "     SO2   NO    NO2    NOx   PM10  PM2-5 空气等级\n",
       "0  0.031  0.0  0.046  0.047  0.085  0.058    I\n",
       "1  0.022  0.0  0.053  0.053  0.070  0.048   II"
      ]
     },
     "execution_count": 1,
     "metadata": {},
     "output_type": "execute_result"
    }
   ],
   "source": [
    "import pandas as pd\n",
    "import numpy as np\n",
    "import matplotlib.pyplot as plt\n",
    "% matplotlib inline\n",
    "plt.rcParams['font.sans-serif'] = ['SimHei'] #用来正常显示中文标签\n",
    "plt.rcParams['axes.unicode_minus'] = False #用来正常显示负号\n",
    "\n",
    "df = pd.read_excel('空气指标.xls', encoding = 'gbk')\n",
    "df.head(2)"
   ]
  },
  {
   "cell_type": "markdown",
   "metadata": {},
   "source": [
    ">本次数据集已经清洗整理得非常棒了，我们只需要根据自己后面构建的模型做一些微量的调整即可。"
   ]
  },
  {
   "cell_type": "code",
   "execution_count": 2,
   "metadata": {},
   "outputs": [
    {
     "data": {
      "text/plain": [
       "array(['I', 'II', 'III', 'IV', 'V', 'VI', 'VII'], dtype=object)"
      ]
     },
     "execution_count": 2,
     "metadata": {},
     "output_type": "execute_result"
    }
   ],
   "source": [
    "df[u'空气等级'].unique()"
   ]
  },
  {
   "cell_type": "code",
   "execution_count": 3,
   "metadata": {},
   "outputs": [
    {
     "data": {
      "text/html": [
       "<div>\n",
       "<style scoped>\n",
       "    .dataframe tbody tr th:only-of-type {\n",
       "        vertical-align: middle;\n",
       "    }\n",
       "\n",
       "    .dataframe tbody tr th {\n",
       "        vertical-align: top;\n",
       "    }\n",
       "\n",
       "    .dataframe thead th {\n",
       "        text-align: right;\n",
       "    }\n",
       "</style>\n",
       "<table border=\"1\" class=\"dataframe\">\n",
       "  <thead>\n",
       "    <tr style=\"text-align: right;\">\n",
       "      <th></th>\n",
       "      <th>SO2</th>\n",
       "      <th>NO</th>\n",
       "      <th>NO2</th>\n",
       "      <th>NOx</th>\n",
       "      <th>PM10</th>\n",
       "      <th>PM2-5</th>\n",
       "      <th>空气等级</th>\n",
       "    </tr>\n",
       "  </thead>\n",
       "  <tbody>\n",
       "    <tr>\n",
       "      <th>0</th>\n",
       "      <td>0.031</td>\n",
       "      <td>0.0</td>\n",
       "      <td>0.046</td>\n",
       "      <td>0.047</td>\n",
       "      <td>0.085</td>\n",
       "      <td>0.058</td>\n",
       "      <td>1</td>\n",
       "    </tr>\n",
       "    <tr>\n",
       "      <th>1</th>\n",
       "      <td>0.022</td>\n",
       "      <td>0.0</td>\n",
       "      <td>0.053</td>\n",
       "      <td>0.053</td>\n",
       "      <td>0.070</td>\n",
       "      <td>0.048</td>\n",
       "      <td>2</td>\n",
       "    </tr>\n",
       "    <tr>\n",
       "      <th>2</th>\n",
       "      <td>0.017</td>\n",
       "      <td>0.0</td>\n",
       "      <td>0.029</td>\n",
       "      <td>0.029</td>\n",
       "      <td>0.057</td>\n",
       "      <td>0.040</td>\n",
       "      <td>1</td>\n",
       "    </tr>\n",
       "    <tr>\n",
       "      <th>3</th>\n",
       "      <td>0.026</td>\n",
       "      <td>0.0</td>\n",
       "      <td>0.026</td>\n",
       "      <td>0.026</td>\n",
       "      <td>0.049</td>\n",
       "      <td>0.034</td>\n",
       "      <td>1</td>\n",
       "    </tr>\n",
       "    <tr>\n",
       "      <th>4</th>\n",
       "      <td>0.018</td>\n",
       "      <td>0.0</td>\n",
       "      <td>0.027</td>\n",
       "      <td>0.027</td>\n",
       "      <td>0.051</td>\n",
       "      <td>0.035</td>\n",
       "      <td>1</td>\n",
       "    </tr>\n",
       "  </tbody>\n",
       "</table>\n",
       "</div>"
      ],
      "text/plain": [
       "     SO2   NO    NO2    NOx   PM10  PM2-5  空气等级\n",
       "0  0.031  0.0  0.046  0.047  0.085  0.058     1\n",
       "1  0.022  0.0  0.053  0.053  0.070  0.048     2\n",
       "2  0.017  0.0  0.029  0.029  0.057  0.040     1\n",
       "3  0.026  0.0  0.026  0.026  0.049  0.034     1\n",
       "4  0.018  0.0  0.027  0.027  0.051  0.035     1"
      ]
     },
     "execution_count": 3,
     "metadata": {},
     "output_type": "execute_result"
    }
   ],
   "source": [
    "# 因为后面我们只用了决策树和支持向量机算法，所以这里不改变‘空气质量’的类型也不会对结果有影响。\n",
    "df.replace('I', 1, inplace=True)\n",
    "df.replace('II', 2, inplace=True) \n",
    "df.replace('III', 3, inplace=True) \n",
    "df.replace('IV', 4, inplace=True)\n",
    "df.replace('V', 5, inplace=True)\n",
    "df.replace('VI', 6, inplace=True)\n",
    "df.replace('VII', 7, inplace=True)\n",
    "df.head()"
   ]
  },
  {
   "cell_type": "code",
   "execution_count": 4,
   "metadata": {},
   "outputs": [
    {
     "name": "stdout",
     "output_type": "stream",
     "text": [
      "<class 'pandas.core.frame.DataFrame'>\n",
      "RangeIndex: 320 entries, 0 to 319\n",
      "Data columns (total 7 columns):\n",
      "SO2      320 non-null float64\n",
      "NO       320 non-null float64\n",
      "NO2      320 non-null float64\n",
      "NOx      320 non-null float64\n",
      "PM10     320 non-null float64\n",
      "PM2-5    320 non-null float64\n",
      "空气等级     320 non-null int64\n",
      "dtypes: float64(6), int64(1)\n",
      "memory usage: 17.6 KB\n"
     ]
    }
   ],
   "source": [
    "df.info()"
   ]
  },
  {
   "cell_type": "code",
   "execution_count": 5,
   "metadata": {},
   "outputs": [],
   "source": [
    "# 把数据集划分成80%的训练集，20%的测试集。\n",
    "from sklearn.model_selection import train_test_split\n",
    "\n",
    "df_col = np.array(df.columns)\n",
    "# 放大多少倍这个需要经验或尝试，如果没有得到我们想要的准确率就不断的调整。\n",
    "# 我试验了多次，当放大超过30倍后准确率不再上升，在放大20倍时准确率也是超过90%的。\n",
    "x = df[df_col[:-1]]*30\n",
    "y = df[df_col[-1]]\n",
    "x_train, x_test, y_train, y_test = train_test_split(x, y, test_size = 0.2, random_state=0)"
   ]
  },
  {
   "cell_type": "markdown",
   "metadata": {},
   "source": [
    "### 支持向量机"
   ]
  },
  {
   "cell_type": "code",
   "execution_count": 9,
   "metadata": {},
   "outputs": [
    {
     "name": "stdout",
     "output_type": "stream",
     "text": [
      "支持向量机模型分类器的准确率为： 0.9375\n"
     ]
    },
    {
     "data": {
      "image/png": "[encoded data removed]",
      "text/plain": [
       "<Figure size 288x288 with 2 Axes>"
      ]
     },
     "metadata": {
      "needs_background": "light"
     },
     "output_type": "display_data"
    }
   ],
   "source": [
    "from sklearn.svm import SVC\n",
    "from sklearn.metrics import confusion_matrix, accuracy_score\n",
    "# 核函数在这里对结果影响不大，当然你可能通过调整参数得到更好的模型。\n",
    "clf = SVC(kernel='linear', probability=True).fit(x_train, y_train)\n",
    "print('支持向量机模型分类器的准确率为：',accuracy_score(y_test, clf.predict(x_test)))\n",
    "\n",
    "def cm_plt(pred):\n",
    "    conf_mat = confusion_matrix(y_train, pred) # conf_mat为分类情况的混淆矩阵\n",
    "    plt.matshow(conf_mat, cmap=plt.cm.Greens)\n",
    "    plt.colorbar()\n",
    "\n",
    "    for x in range(len(conf_mat)):\n",
    "        for y in range(len(conf_mat)):\n",
    "            plt.annotate(conf_mat[x,y], xy=(x, y), horizontalalignment='center', verticalalignment='center')\n",
    "        \n",
    "    plt.title(u'分类器混淆矩阵的可视化展示')\n",
    "    plt.ylabel('True label');\n",
    "    plt.xlabel('Predicted label');\n",
    "# 训练集混淆矩阵的可视化展示\n",
    "cm_plt(clf.predict(x_train))"
   ]
  },
  {
   "cell_type": "markdown",
   "metadata": {},
   "source": [
    "### 决策树"
   ]
  },
  {
   "cell_type": "code",
   "execution_count": 7,
   "metadata": {},
   "outputs": [
    {
     "name": "stdout",
     "output_type": "stream",
     "text": [
      "决策树模型分类器的准确率为： 0.953125\n"
     ]
    },
    {
     "data": {
      "image/png": "[encoded data removed]",
      "text/plain": [
       "<Figure size 288x288 with 2 Axes>"
      ]
     },
     "metadata": {
      "needs_background": "light"
     },
     "output_type": "display_data"
    }
   ],
   "source": [
    "from sklearn.tree import DecisionTreeClassifier\n",
    "from sklearn.metrics import confusion_matrix, accuracy_score\n",
    "# DecisionTreeClassifier()中的参数可设置，不过我试过几种参数，对结果影响不大，\n",
    "# 再加上本来准确率也还可以，所以不加入参数也行\n",
    "tree = DecisionTreeClassifier().fit(x_train, y_train)\n",
    "print('决策树模型分类器的准确率为：',accuracy_score(y_test, tree.predict(x_test)))\n",
    "\n",
    "# 训练集混淆矩阵的可视化展示\n",
    "cm_plt(tree.predict(x_train))"
   ]
  },
  {
   "cell_type": "markdown",
   "metadata": {},
   "source": [
    ">##### 这里构建的两种模型准确率都非常高，基本符合我们的要求，所以我不再继续构建其他模型，从上面两种模型中选出一种即可。"
   ]
  },
  {
   "cell_type": "code",
   "execution_count": null,
   "metadata": {},
   "outputs": [],
   "source": []
  }
 ],
 "metadata": {
  "kernelspec": {
   "display_name": "Python 3",
   "language": "python",
   "name": "python3"
  },
  "language_info": {
   "codemirror_mode": {
    "name": "ipython",
    "version": 3
   },
   "file_extension": ".py",
   "mimetype": "text/x-python",
   "name": "python",
   "nbconvert_exporter": "python",
   "pygments_lexer": "ipython3",
   "version": "3.7.0"
  }
 },
 "nbformat": 4,
 "nbformat_minor": 2
}
