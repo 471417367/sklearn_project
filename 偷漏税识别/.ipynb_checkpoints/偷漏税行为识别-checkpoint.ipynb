{
 "cells": [
  {
   "cell_type": "markdown",
   "metadata": {},
   "source": [
    "### 汽车销售行业偷漏税行为识别\n",
    "#### 简介\n",
    ">##### 汽车销售行业，通常是指销售汽车整车的行业。该行业在税收上存在少开发票金额、少计收入，上牌、按揭、保险等一条龙服务未入账，不及时确认保修索赔款等多种情况，导致政府损失大量税收。汽车销售企业的部分经营指标能在一定程度上评估企业的偷漏税倾向。  \n",
    ">##### 在这个项目中，我们需要通过汽车销售企业的部分经营指标，建立偷漏税行为识别模型。"
   ]
  },
  {
   "cell_type": "code",
   "execution_count": 7,
   "metadata": {},
   "outputs": [
    {
     "data": {
      "text/html": [
       "<div>\n",
       "<style scoped>\n",
       "    .dataframe tbody tr th:only-of-type {\n",
       "        vertical-align: middle;\n",
       "    }\n",
       "\n",
       "    .dataframe tbody tr th {\n",
       "        vertical-align: top;\n",
       "    }\n",
       "\n",
       "    .dataframe thead th {\n",
       "        text-align: right;\n",
       "    }\n",
       "</style>\n",
       "<table border=\"1\" class=\"dataframe\">\n",
       "  <thead>\n",
       "    <tr style=\"text-align: right;\">\n",
       "      <th></th>\n",
       "      <th>纳税人编号</th>\n",
       "      <th>销售类型</th>\n",
       "      <th>销售模式</th>\n",
       "      <th>汽车销售平均毛利</th>\n",
       "      <th>维修毛利</th>\n",
       "      <th>企业维修收入占销售收入比重</th>\n",
       "      <th>增值税税负</th>\n",
       "      <th>存货周转率</th>\n",
       "      <th>成本费用利润率</th>\n",
       "      <th>整体理论税负</th>\n",
       "      <th>整体税负控制数</th>\n",
       "      <th>办牌率</th>\n",
       "      <th>单台办牌手续费收入</th>\n",
       "      <th>代办保险率</th>\n",
       "      <th>保费返还率</th>\n",
       "      <th>输出</th>\n",
       "    </tr>\n",
       "  </thead>\n",
       "  <tbody>\n",
       "    <tr>\n",
       "      <th>0</th>\n",
       "      <td>1</td>\n",
       "      <td>国产轿车</td>\n",
       "      <td>4S店</td>\n",
       "      <td>0.0635</td>\n",
       "      <td>0.3241</td>\n",
       "      <td>0.0879</td>\n",
       "      <td>0.0084</td>\n",
       "      <td>8.5241</td>\n",
       "      <td>0.0018</td>\n",
       "      <td>0.0166</td>\n",
       "      <td>0.0147</td>\n",
       "      <td>0.4000</td>\n",
       "      <td>0.02</td>\n",
       "      <td>0.7155</td>\n",
       "      <td>0.1500</td>\n",
       "      <td>正常</td>\n",
       "    </tr>\n",
       "    <tr>\n",
       "      <th>1</th>\n",
       "      <td>2</td>\n",
       "      <td>国产轿车</td>\n",
       "      <td>4S店</td>\n",
       "      <td>0.0520</td>\n",
       "      <td>0.2577</td>\n",
       "      <td>0.1394</td>\n",
       "      <td>0.0298</td>\n",
       "      <td>5.2782</td>\n",
       "      <td>-0.0013</td>\n",
       "      <td>0.0032</td>\n",
       "      <td>0.0137</td>\n",
       "      <td>0.3307</td>\n",
       "      <td>0.02</td>\n",
       "      <td>0.2697</td>\n",
       "      <td>0.1367</td>\n",
       "      <td>正常</td>\n",
       "    </tr>\n",
       "    <tr>\n",
       "      <th>2</th>\n",
       "      <td>3</td>\n",
       "      <td>国产轿车</td>\n",
       "      <td>4S店</td>\n",
       "      <td>0.0173</td>\n",
       "      <td>0.1965</td>\n",
       "      <td>0.1025</td>\n",
       "      <td>0.0067</td>\n",
       "      <td>19.8356</td>\n",
       "      <td>0.0014</td>\n",
       "      <td>0.0080</td>\n",
       "      <td>0.0061</td>\n",
       "      <td>0.2256</td>\n",
       "      <td>0.02</td>\n",
       "      <td>0.2445</td>\n",
       "      <td>0.1301</td>\n",
       "      <td>正常</td>\n",
       "    </tr>\n",
       "    <tr>\n",
       "      <th>3</th>\n",
       "      <td>4</td>\n",
       "      <td>国产轿车</td>\n",
       "      <td>一级代理商</td>\n",
       "      <td>0.0501</td>\n",
       "      <td>0.0000</td>\n",
       "      <td>0.0000</td>\n",
       "      <td>0.0000</td>\n",
       "      <td>1.0673</td>\n",
       "      <td>-0.3596</td>\n",
       "      <td>-0.1673</td>\n",
       "      <td>0.0000</td>\n",
       "      <td>0.0000</td>\n",
       "      <td>0.00</td>\n",
       "      <td>0.0000</td>\n",
       "      <td>0.0000</td>\n",
       "      <td>异常</td>\n",
       "    </tr>\n",
       "    <tr>\n",
       "      <th>4</th>\n",
       "      <td>5</td>\n",
       "      <td>进口轿车</td>\n",
       "      <td>4S店</td>\n",
       "      <td>0.0564</td>\n",
       "      <td>0.0034</td>\n",
       "      <td>0.0066</td>\n",
       "      <td>0.0017</td>\n",
       "      <td>12.8470</td>\n",
       "      <td>-0.0014</td>\n",
       "      <td>0.0123</td>\n",
       "      <td>0.0095</td>\n",
       "      <td>0.0039</td>\n",
       "      <td>0.08</td>\n",
       "      <td>0.0117</td>\n",
       "      <td>0.1872</td>\n",
       "      <td>正常</td>\n",
       "    </tr>\n",
       "  </tbody>\n",
       "</table>\n",
       "</div>"
      ],
      "text/plain": [
       "   纳税人编号  销售类型   销售模式  汽车销售平均毛利    维修毛利  企业维修收入占销售收入比重   增值税税负    存货周转率  \\\n",
       "0      1  国产轿车    4S店    0.0635  0.3241         0.0879  0.0084   8.5241   \n",
       "1      2  国产轿车    4S店    0.0520  0.2577         0.1394  0.0298   5.2782   \n",
       "2      3  国产轿车    4S店    0.0173  0.1965         0.1025  0.0067  19.8356   \n",
       "3      4  国产轿车  一级代理商    0.0501  0.0000         0.0000  0.0000   1.0673   \n",
       "4      5  进口轿车    4S店    0.0564  0.0034         0.0066  0.0017  12.8470   \n",
       "\n",
       "   成本费用利润率  整体理论税负  整体税负控制数     办牌率  单台办牌手续费收入   代办保险率   保费返还率  输出  \n",
       "0   0.0018  0.0166   0.0147  0.4000       0.02  0.7155  0.1500  正常  \n",
       "1  -0.0013  0.0032   0.0137  0.3307       0.02  0.2697  0.1367  正常  \n",
       "2   0.0014  0.0080   0.0061  0.2256       0.02  0.2445  0.1301  正常  \n",
       "3  -0.3596 -0.1673   0.0000  0.0000       0.00  0.0000  0.0000  异常  \n",
       "4  -0.0014  0.0123   0.0095  0.0039       0.08  0.0117  0.1872  正常  "
      ]
     },
     "execution_count": 7,
     "metadata": {},
     "output_type": "execute_result"
    }
   ],
   "source": [
    "import pandas as pd\n",
    "import matplotlib.pyplot as plt\n",
    "import numpy as np\n",
    "% matplotlib inline\n",
    "plt.rcParams['font.sans-serif'] = ['SimHei'] #用来正常显示中文标签\n",
    "plt.rcParams['axes.unicode_minus'] = False #用来正常显示负号\n",
    "\n",
    "df = pd.read_excel(u'汽车销售企业经营指标.xls',encoding = 'gbk')\n",
    "df.head()"
   ]
  },
  {
   "cell_type": "markdown",
   "metadata": {},
   "source": [
    ">##### 可以看到我们的数据集有16列，其中'销售类型','销售模式','输出'是需要创建虚拟变量的。"
   ]
  },
  {
   "cell_type": "code",
   "execution_count": 8,
   "metadata": {
    "scrolled": true
   },
   "outputs": [
    {
     "name": "stdout",
     "output_type": "stream",
     "text": [
      "数据集（行，列）： (124, 16)\n",
      "空值数量： 0\n",
      "重复的数据行： Empty DataFrame\n",
      "Columns: [纳税人编号, 销售类型, 销售模式, 汽车销售平均毛利, 维修毛利, 企业维修收入占销售收入比重, 增值税税负, 存货周转率, 成本费用利润率, 整体理论税负, 整体税负控制数, 办牌率, 单台办牌手续费收入, 代办保险率, 保费返还率, 输出]\n",
      "Index: []\n"
     ]
    }
   ],
   "source": [
    "print('数据集（行，列）：',df.shape)\n",
    "print('空值数量：',df.isnull().sum().sum())\n",
    "print('重复的数据行：',df[df.duplicated() == True])"
   ]
  },
  {
   "cell_type": "markdown",
   "metadata": {},
   "source": [
    ">##### 可以看到数据集数据量不多，没有空值没有重复行，所以不做过多处理。"
   ]
  },
  {
   "cell_type": "code",
   "execution_count": 9,
   "metadata": {
    "scrolled": true
   },
   "outputs": [
    {
     "ename": "KeyError",
     "evalue": "'Column not found: 异常'",
     "output_type": "error",
     "traceback": [
      "\u001b[1;31m---------------------------------------------------------------------------\u001b[0m",
      "\u001b[1;31mKeyError\u001b[0m                                  Traceback (most recent call last)",
      "\u001b[1;32m<ipython-input-9-544ca27374b3>\u001b[0m in \u001b[0;36m<module>\u001b[1;34m()\u001b[0m\n\u001b[0;32m      1\u001b[0m \u001b[1;31m# 初步分析不同销售类型的异常数量\u001b[0m\u001b[1;33m\u001b[0m\u001b[1;33m\u001b[0m\u001b[0m\n\u001b[1;32m----> 2\u001b[1;33m \u001b[0mdf_type1\u001b[0m \u001b[1;33m=\u001b[0m \u001b[0mdf\u001b[0m\u001b[1;33m.\u001b[0m\u001b[0mgroupby\u001b[0m\u001b[1;33m(\u001b[0m\u001b[1;33m[\u001b[0m\u001b[1;34mu'销售类型'\u001b[0m\u001b[1;33m]\u001b[0m\u001b[1;33m)\u001b[0m\u001b[1;33m[\u001b[0m\u001b[1;34mu'异常'\u001b[0m\u001b[1;33m]\u001b[0m\u001b[1;33m.\u001b[0m\u001b[0msum\u001b[0m\u001b[1;33m(\u001b[0m\u001b[1;33m)\u001b[0m\u001b[1;33m\u001b[0m\u001b[0m\n\u001b[0m\u001b[0;32m      3\u001b[0m \u001b[0mdf_type2\u001b[0m \u001b[1;33m=\u001b[0m \u001b[0mdf\u001b[0m\u001b[1;33m.\u001b[0m\u001b[0mgroupby\u001b[0m\u001b[1;33m(\u001b[0m\u001b[1;33m[\u001b[0m\u001b[1;34mu'销售类型'\u001b[0m\u001b[1;33m]\u001b[0m\u001b[1;33m)\u001b[0m\u001b[1;33m[\u001b[0m\u001b[1;34mu'正常'\u001b[0m\u001b[1;33m]\u001b[0m\u001b[1;33m.\u001b[0m\u001b[0msum\u001b[0m\u001b[1;33m(\u001b[0m\u001b[1;33m)\u001b[0m\u001b[1;33m\u001b[0m\u001b[0m\n\u001b[0;32m      4\u001b[0m \u001b[0mdf_type12\u001b[0m \u001b[1;33m=\u001b[0m \u001b[0mpd\u001b[0m\u001b[1;33m.\u001b[0m\u001b[0mconcat\u001b[0m\u001b[1;33m(\u001b[0m\u001b[1;33m[\u001b[0m\u001b[0mdf_type1\u001b[0m\u001b[1;33m,\u001b[0m\u001b[0mdf_type2\u001b[0m\u001b[1;33m]\u001b[0m\u001b[1;33m,\u001b[0m\u001b[0maxis\u001b[0m\u001b[1;33m=\u001b[0m\u001b[1;36m1\u001b[0m\u001b[1;33m)\u001b[0m\u001b[1;33m\u001b[0m\u001b[0m\n\u001b[0;32m      5\u001b[0m \u001b[1;31m# 直方图按照异常出现的次数降序显示\u001b[0m\u001b[1;33m\u001b[0m\u001b[1;33m\u001b[0m\u001b[0m\n",
      "\u001b[1;32mD:\\Anaconda3531\\lib\\site-packages\\pandas\\core\\base.py\u001b[0m in \u001b[0;36m__getitem__\u001b[1;34m(self, key)\u001b[0m\n\u001b[0;32m    265\u001b[0m         \u001b[1;32melse\u001b[0m\u001b[1;33m:\u001b[0m\u001b[1;33m\u001b[0m\u001b[0m\n\u001b[0;32m    266\u001b[0m             \u001b[1;32mif\u001b[0m \u001b[0mkey\u001b[0m \u001b[1;32mnot\u001b[0m \u001b[1;32min\u001b[0m \u001b[0mself\u001b[0m\u001b[1;33m.\u001b[0m\u001b[0mobj\u001b[0m\u001b[1;33m:\u001b[0m\u001b[1;33m\u001b[0m\u001b[0m\n\u001b[1;32m--> 267\u001b[1;33m                 \u001b[1;32mraise\u001b[0m \u001b[0mKeyError\u001b[0m\u001b[1;33m(\u001b[0m\u001b[1;34m\"Column not found: {key}\"\u001b[0m\u001b[1;33m.\u001b[0m\u001b[0mformat\u001b[0m\u001b[1;33m(\u001b[0m\u001b[0mkey\u001b[0m\u001b[1;33m=\u001b[0m\u001b[0mkey\u001b[0m\u001b[1;33m)\u001b[0m\u001b[1;33m)\u001b[0m\u001b[1;33m\u001b[0m\u001b[0m\n\u001b[0m\u001b[0;32m    268\u001b[0m             \u001b[1;32mreturn\u001b[0m \u001b[0mself\u001b[0m\u001b[1;33m.\u001b[0m\u001b[0m_gotitem\u001b[0m\u001b[1;33m(\u001b[0m\u001b[0mkey\u001b[0m\u001b[1;33m,\u001b[0m \u001b[0mndim\u001b[0m\u001b[1;33m=\u001b[0m\u001b[1;36m1\u001b[0m\u001b[1;33m)\u001b[0m\u001b[1;33m\u001b[0m\u001b[0m\n\u001b[0;32m    269\u001b[0m \u001b[1;33m\u001b[0m\u001b[0m\n",
      "\u001b[1;31mKeyError\u001b[0m: 'Column not found: 异常'"
     ]
    }
   ],
   "source": [
    "# 初步分析不同销售类型的异常数量\n",
    "df_type1 = df.groupby([u'销售类型'])[u'异常'].sum()\n",
    "df_type2 = df.groupby([u'销售类型'])[u'正常'].sum()\n",
    "df_type12 = pd.concat([df_type1,df_type2],axis=1)\n",
    "# 直方图按照异常出现的次数降序显示\n",
    "df_type12.sort_values(u'异常',ascending=False).plot(kind='bar');\n",
    "plt.title(u'不同销售类型下异常与正常的数量');\n",
    "plt.xlabel('销售类型')\n",
    "plt.ylabel('频率')\n",
    "plt.show()"
   ]
  },
  {
   "cell_type": "markdown",
   "metadata": {},
   "source": [
    ">##### 从上图可以看出国产轿车和大客车的异常频率较大，其中大客车的异常比它本身的正常还有多很多，大客车需要重点关注。"
   ]
  },
  {
   "cell_type": "code",
   "execution_count": null,
   "metadata": {},
   "outputs": [],
   "source": [
    "# 计算每种销售类型异常和正常所占比列，并添加到新的列中。\n",
    "df_type12[u'异常比列'] = df_type12[u'异常'] / df_type12[u'异常'].sum()\n",
    "df_type12[u'正常比列'] = df_type12[u'正常'] / df_type12[u'正常'].sum()\n",
    "# 用饼图进行可视化\n",
    "fig = plt.figure(figsize=(12,10))\n",
    "ax1 = fig.add_subplot(2,1,1)\n",
    "ax2 = fig.add_subplot(2,1,2)\n",
    "ax1.pie(df_type12[u'异常比列'] , labels = df_type12.index, autopct='%1.1f%%',shadow=True, startangle=90)\n",
    "ax2.pie(df_type12[u'正常比列'] , labels = df_type12.index, autopct='%1.1f%%',shadow=True, startangle=90)\n",
    "ax1.axis('equal')  # 圆形显示\n",
    "ax2.axis('equal')\n",
    "ax1.title(u'异常比列分布情况')\n",
    "ax2.title(u'正常比列分布情况')\n",
    "plt.show()"
   ]
  },
  {
   "cell_type": "code",
   "execution_count": null,
   "metadata": {},
   "outputs": [],
   "source": []
  }
 ],
 "metadata": {
  "kernelspec": {
   "display_name": "Python 3",
   "language": "python",
   "name": "python3"
  },
  "language_info": {
   "codemirror_mode": {
    "name": "ipython",
    "version": 3
   },
   "file_extension": ".py",
   "mimetype": "text/x-python",
   "name": "python",
   "nbconvert_exporter": "python",
   "pygments_lexer": "ipython3",
   "version": "3.7.0"
  }
 },
 "nbformat": 4,
 "nbformat_minor": 2
}
