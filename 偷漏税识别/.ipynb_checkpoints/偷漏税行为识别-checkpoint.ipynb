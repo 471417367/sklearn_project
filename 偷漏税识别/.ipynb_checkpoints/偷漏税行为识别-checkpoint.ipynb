{
 "cells": [
  {
   "cell_type": "markdown",
   "metadata": {},
   "source": [
    "### 汽车销售行业偷漏税行为识别\n",
    "#### 简介\n",
    ">##### 汽车销售行业，通常是指销售汽车整车的行业。该行业在税收上存在少开发票金额、少计收入，上牌、按揭、保险等一条龙服务未入账，不及时确认保修索赔款等多种情况，导致政府损失大量税收。汽车销售企业的部分经营指标能在一定程度上评估企业的偷漏税倾向。  \n",
    ">##### 在这个项目中，我们需要通过汽车销售企业的部分经营指标，建立偷漏税行为识别模型。"
   ]
  },
  {
   "cell_type": "code",
   "execution_count": 1,
   "metadata": {},
   "outputs": [
    {
     "data": {
      "text/html": [
       "<div>\n",
       "<style scoped>\n",
       "    .dataframe tbody tr th:only-of-type {\n",
       "        vertical-align: middle;\n",
       "    }\n",
       "\n",
       "    .dataframe tbody tr th {\n",
       "        vertical-align: top;\n",
       "    }\n",
       "\n",
       "    .dataframe thead th {\n",
       "        text-align: right;\n",
       "    }\n",
       "</style>\n",
       "<table border=\"1\" class=\"dataframe\">\n",
       "  <thead>\n",
       "    <tr style=\"text-align: right;\">\n",
       "      <th></th>\n",
       "      <th>纳税人编号</th>\n",
       "      <th>销售类型</th>\n",
       "      <th>销售模式</th>\n",
       "      <th>汽车销售平均毛利</th>\n",
       "      <th>维修毛利</th>\n",
       "      <th>企业维修收入占销售收入比重</th>\n",
       "      <th>增值税税负</th>\n",
       "      <th>存货周转率</th>\n",
       "      <th>成本费用利润率</th>\n",
       "      <th>整体理论税负</th>\n",
       "      <th>整体税负控制数</th>\n",
       "      <th>办牌率</th>\n",
       "      <th>单台办牌手续费收入</th>\n",
       "      <th>代办保险率</th>\n",
       "      <th>保费返还率</th>\n",
       "      <th>输出</th>\n",
       "    </tr>\n",
       "  </thead>\n",
       "  <tbody>\n",
       "    <tr>\n",
       "      <th>0</th>\n",
       "      <td>1</td>\n",
       "      <td>国产轿车</td>\n",
       "      <td>4S店</td>\n",
       "      <td>0.0635</td>\n",
       "      <td>0.3241</td>\n",
       "      <td>0.0879</td>\n",
       "      <td>0.0084</td>\n",
       "      <td>8.5241</td>\n",
       "      <td>0.0018</td>\n",
       "      <td>0.0166</td>\n",
       "      <td>0.0147</td>\n",
       "      <td>0.4000</td>\n",
       "      <td>0.02</td>\n",
       "      <td>0.7155</td>\n",
       "      <td>0.1500</td>\n",
       "      <td>正常</td>\n",
       "    </tr>\n",
       "    <tr>\n",
       "      <th>1</th>\n",
       "      <td>2</td>\n",
       "      <td>国产轿车</td>\n",
       "      <td>4S店</td>\n",
       "      <td>0.0520</td>\n",
       "      <td>0.2577</td>\n",
       "      <td>0.1394</td>\n",
       "      <td>0.0298</td>\n",
       "      <td>5.2782</td>\n",
       "      <td>-0.0013</td>\n",
       "      <td>0.0032</td>\n",
       "      <td>0.0137</td>\n",
       "      <td>0.3307</td>\n",
       "      <td>0.02</td>\n",
       "      <td>0.2697</td>\n",
       "      <td>0.1367</td>\n",
       "      <td>正常</td>\n",
       "    </tr>\n",
       "    <tr>\n",
       "      <th>2</th>\n",
       "      <td>3</td>\n",
       "      <td>国产轿车</td>\n",
       "      <td>4S店</td>\n",
       "      <td>0.0173</td>\n",
       "      <td>0.1965</td>\n",
       "      <td>0.1025</td>\n",
       "      <td>0.0067</td>\n",
       "      <td>19.8356</td>\n",
       "      <td>0.0014</td>\n",
       "      <td>0.0080</td>\n",
       "      <td>0.0061</td>\n",
       "      <td>0.2256</td>\n",
       "      <td>0.02</td>\n",
       "      <td>0.2445</td>\n",
       "      <td>0.1301</td>\n",
       "      <td>正常</td>\n",
       "    </tr>\n",
       "    <tr>\n",
       "      <th>3</th>\n",
       "      <td>4</td>\n",
       "      <td>国产轿车</td>\n",
       "      <td>一级代理商</td>\n",
       "      <td>0.0501</td>\n",
       "      <td>0.0000</td>\n",
       "      <td>0.0000</td>\n",
       "      <td>0.0000</td>\n",
       "      <td>1.0673</td>\n",
       "      <td>-0.3596</td>\n",
       "      <td>-0.1673</td>\n",
       "      <td>0.0000</td>\n",
       "      <td>0.0000</td>\n",
       "      <td>0.00</td>\n",
       "      <td>0.0000</td>\n",
       "      <td>0.0000</td>\n",
       "      <td>异常</td>\n",
       "    </tr>\n",
       "  </tbody>\n",
       "</table>\n",
       "</div>"
      ],
      "text/plain": [
       "   纳税人编号  销售类型   销售模式  汽车销售平均毛利    维修毛利  企业维修收入占销售收入比重   增值税税负    存货周转率  \\\n",
       "0      1  国产轿车    4S店    0.0635  0.3241         0.0879  0.0084   8.5241   \n",
       "1      2  国产轿车    4S店    0.0520  0.2577         0.1394  0.0298   5.2782   \n",
       "2      3  国产轿车    4S店    0.0173  0.1965         0.1025  0.0067  19.8356   \n",
       "3      4  国产轿车  一级代理商    0.0501  0.0000         0.0000  0.0000   1.0673   \n",
       "\n",
       "   成本费用利润率  整体理论税负  整体税负控制数     办牌率  单台办牌手续费收入   代办保险率   保费返还率  输出  \n",
       "0   0.0018  0.0166   0.0147  0.4000       0.02  0.7155  0.1500  正常  \n",
       "1  -0.0013  0.0032   0.0137  0.3307       0.02  0.2697  0.1367  正常  \n",
       "2   0.0014  0.0080   0.0061  0.2256       0.02  0.2445  0.1301  正常  \n",
       "3  -0.3596 -0.1673   0.0000  0.0000       0.00  0.0000  0.0000  异常  "
      ]
     },
     "execution_count": 1,
     "metadata": {},
     "output_type": "execute_result"
    }
   ],
   "source": [
    "import pandas as pd\n",
    "import matplotlib.pyplot as plt\n",
    "import numpy as np\n",
    "% matplotlib inline\n",
    "plt.rcParams['font.sans-serif'] = ['SimHei'] #用来正常显示中文标签\n",
    "plt.rcParams['axes.unicode_minus'] = False #用来正常显示负号\n",
    "\n",
    "df = pd.read_excel(u'汽车销售企业经营指标.xls',encoding = 'gbk')\n",
    "df.head(4)"
   ]
  },
  {
   "cell_type": "markdown",
   "metadata": {},
   "source": [
    ">##### 可以看到我们的数据集有16列，其中'销售类型','销售模式','输出'是需要创建虚拟变量的。"
   ]
  },
  {
   "cell_type": "code",
   "execution_count": 2,
   "metadata": {
    "scrolled": true
   },
   "outputs": [
    {
     "name": "stdout",
     "output_type": "stream",
     "text": [
      "数据集（行，列）： (124, 16)\n",
      "空值数量： 0\n",
      "重复的数据行： Empty DataFrame\n",
      "Columns: [纳税人编号, 销售类型, 销售模式, 汽车销售平均毛利, 维修毛利, 企业维修收入占销售收入比重, 增值税税负, 存货周转率, 成本费用利润率, 整体理论税负, 整体税负控制数, 办牌率, 单台办牌手续费收入, 代办保险率, 保费返还率, 输出]\n",
      "Index: []\n"
     ]
    }
   ],
   "source": [
    "print('数据集（行，列）：',df.shape)\n",
    "print('空值数量：',df.isnull().sum().sum())\n",
    "print('重复的数据行：',df[df.duplicated() == True])"
   ]
  },
  {
   "cell_type": "markdown",
   "metadata": {},
   "source": [
    ">##### 可以看到数据集数据量不多，没有空值没有重复行，所以不做过多处理。"
   ]
  },
  {
   "cell_type": "code",
   "execution_count": 3,
   "metadata": {},
   "outputs": [
    {
     "data": {
      "text/html": [
       "<div>\n",
       "<style scoped>\n",
       "    .dataframe tbody tr th:only-of-type {\n",
       "        vertical-align: middle;\n",
       "    }\n",
       "\n",
       "    .dataframe tbody tr th {\n",
       "        vertical-align: top;\n",
       "    }\n",
       "\n",
       "    .dataframe thead th {\n",
       "        text-align: right;\n",
       "    }\n",
       "</style>\n",
       "<table border=\"1\" class=\"dataframe\">\n",
       "  <thead>\n",
       "    <tr style=\"text-align: right;\">\n",
       "      <th></th>\n",
       "      <th>纳税人编号</th>\n",
       "      <th>销售类型</th>\n",
       "      <th>销售模式</th>\n",
       "      <th>汽车销售平均毛利</th>\n",
       "      <th>维修毛利</th>\n",
       "      <th>企业维修收入占销售收入比重</th>\n",
       "      <th>增值税税负</th>\n",
       "      <th>存货周转率</th>\n",
       "      <th>成本费用利润率</th>\n",
       "      <th>整体理论税负</th>\n",
       "      <th>...</th>\n",
       "      <th>type_工程车</th>\n",
       "      <th>type_微型面包车</th>\n",
       "      <th>type_进口轿车</th>\n",
       "      <th>model_4S店</th>\n",
       "      <th>model_一级代理商</th>\n",
       "      <th>model_二级及二级以下代理商</th>\n",
       "      <th>model_其它</th>\n",
       "      <th>model_多品牌经营店</th>\n",
       "      <th>异常</th>\n",
       "      <th>正常</th>\n",
       "    </tr>\n",
       "  </thead>\n",
       "  <tbody>\n",
       "    <tr>\n",
       "      <th>0</th>\n",
       "      <td>1</td>\n",
       "      <td>国产轿车</td>\n",
       "      <td>4S店</td>\n",
       "      <td>0.0635</td>\n",
       "      <td>0.3241</td>\n",
       "      <td>0.0879</td>\n",
       "      <td>0.0084</td>\n",
       "      <td>8.5241</td>\n",
       "      <td>0.0018</td>\n",
       "      <td>0.0166</td>\n",
       "      <td>...</td>\n",
       "      <td>0</td>\n",
       "      <td>0</td>\n",
       "      <td>0</td>\n",
       "      <td>1</td>\n",
       "      <td>0</td>\n",
       "      <td>0</td>\n",
       "      <td>0</td>\n",
       "      <td>0</td>\n",
       "      <td>0</td>\n",
       "      <td>1</td>\n",
       "    </tr>\n",
       "  </tbody>\n",
       "</table>\n",
       "<p>1 rows × 31 columns</p>\n",
       "</div>"
      ],
      "text/plain": [
       "   纳税人编号  销售类型 销售模式  汽车销售平均毛利    维修毛利  企业维修收入占销售收入比重   增值税税负   存货周转率  成本费用利润率  \\\n",
       "0      1  国产轿车  4S店    0.0635  0.3241         0.0879  0.0084  8.5241   0.0018   \n",
       "\n",
       "   整体理论税负 ...  type_工程车  type_微型面包车  type_进口轿车  model_4S店  model_一级代理商  \\\n",
       "0  0.0166 ...         0           0          0          1            0   \n",
       "\n",
       "  model_二级及二级以下代理商  model_其它  model_多品牌经营店  异常  正常  \n",
       "0                0         0             0   0   1  \n",
       "\n",
       "[1 rows x 31 columns]"
      ]
     },
     "execution_count": 3,
     "metadata": {},
     "output_type": "execute_result"
    }
   ],
   "source": [
    "df_type = pd.get_dummies(df[u'销售类型'], prefix='type')\n",
    "df_model =  pd.get_dummies(df[u'销售模式'] , prefix='model')\n",
    "df_input = pd.get_dummies(df[u'输出'])\n",
    "df = pd.concat([df, df_type, df_model, df_input], axis=1)\n",
    "df.columns\n",
    "df.head(1)"
   ]
  },
  {
   "cell_type": "markdown",
   "metadata": {},
   "source": [
    ">##### 将'销售类型','销售模式','输出'三列创建虚拟变量。"
   ]
  },
  {
   "cell_type": "code",
   "execution_count": 4,
   "metadata": {
    "scrolled": true
   },
   "outputs": [
    {
     "data": {
      "image/png": "[encoded data removed]",
      "text/plain": [
       "<Figure size 432x288 with 1 Axes>"
      ]
     },
     "metadata": {
      "needs_background": "light"
     },
     "output_type": "display_data"
    }
   ],
   "source": [
    "# 初步分析不同销售类型的异常数量\n",
    "df_type1 = df.groupby([u'销售类型'])[u'异常'].sum()\n",
    "df_type2 = df.groupby([u'销售类型'])[u'正常'].sum()\n",
    "df_type12 = pd.concat([df_type1,df_type2],axis=1)\n",
    "# 直方图按照异常出现的次数降序显示\n",
    "df_type12.sort_values(u'异常',ascending=False).plot(kind='bar');\n",
    "plt.title(u'不同销售类型下异常与正常的数量');\n",
    "plt.xlabel('销售类型')\n",
    "plt.ylabel('频率')\n",
    "plt.show()"
   ]
  },
  {
   "cell_type": "markdown",
   "metadata": {},
   "source": [
    ">##### 从上图可以看出国产轿车和大客车的异常频率较大，其中大客车的异常比它本身的正常还有多很多，大客车需要重点关注。"
   ]
  },
  {
   "cell_type": "code",
   "execution_count": 5,
   "metadata": {},
   "outputs": [
    {
     "data": {
      "image/png": "[encoded data removed]",
      "text/plain": [
       "<Figure size 864x720 with 2 Axes>"
      ]
     },
     "metadata": {},
     "output_type": "display_data"
    }
   ],
   "source": [
    "# 计算每种销售类型异常和正常所占比列，并添加到新的列中。\n",
    "df_type12[u'异常比列'] = df_type12[u'异常'] / df_type12[u'异常'].sum()\n",
    "df_type12[u'正常比列'] = df_type12[u'正常'] / df_type12[u'正常'].sum()\n",
    "# 用饼图进行可视化\n",
    "fig = plt.figure(figsize=(12,10))\n",
    "ax1 = fig.add_subplot(2,1,1)\n",
    "ax2 = fig.add_subplot(2,1,2)\n",
    "ax1.pie(df_type12[u'异常比列'] , labels = df_type12.index, autopct='%1.1f%%',shadow=True, startangle=90);\n",
    "ax1.set_title(u'异常比列分布情况')\n",
    "ax1.axis('equal')  # 圆形显示\n",
    "ax2.pie(df_type12[u'正常比列'] , labels = df_type12.index, autopct='%1.1f%%',shadow=True, startangle=90);\n",
    "ax2.axis('equal')\n",
    "ax2.set_title(u'正常比列分布情况')\n",
    "plt.show()"
   ]
  },
  {
   "cell_type": "markdown",
   "metadata": {},
   "source": [
    ">##### 创建饼图作为条形图的补充，主要观察异常的比例分布情况。"
   ]
  },
  {
   "cell_type": "code",
   "execution_count": 6,
   "metadata": {},
   "outputs": [
    {
     "data": {
      "image/png": "[encoded data removed]",
      "text/plain": [
       "<Figure size 432x288 with 1 Axes>"
      ]
     },
     "metadata": {
      "needs_background": "light"
     },
     "output_type": "display_data"
    }
   ],
   "source": [
    "# 同理可视化不同'销售模式'下的异常情况。\n",
    "df_model1 = df.groupby([u'销售模式'])[u'异常'].sum()\n",
    "df_model2 = df.groupby([u'销售模式'])[u'正常'].sum()\n",
    "df_model12 = pd.concat([df_model1,df_model2],axis=1)\n",
    "df_model12.sort_values(u'异常',ascending=False).plot(kind='bar');\n",
    "plt.title(u'不同销售模式下异常与正常的数量');\n",
    "plt.xlabel('销售模式')\n",
    "plt.ylabel('频率')\n",
    "plt.show()"
   ]
  },
  {
   "cell_type": "markdown",
   "metadata": {},
   "source": [
    ">##### 代理商值得关注。"
   ]
  },
  {
   "cell_type": "code",
   "execution_count": 7,
   "metadata": {},
   "outputs": [
    {
     "data": {
      "image/png": "[encoded data removed]",
      "text/plain": [
       "<Figure size 432x288 with 1 Axes>"
      ]
     },
     "metadata": {},
     "output_type": "display_data"
    }
   ],
   "source": [
    "# 计算每种销售模式异常所占比列，并添加到新的列中。\n",
    "df_model12[u'异常比列'] = df_model12[u'异常'] / df_model12[u'异常'].sum()\n",
    "# 用饼图进行可视化\n",
    "plt.pie(df_model12[u'异常比列'] , labels = df_model12.index, autopct='%1.1f%%',shadow=True, startangle=90);\n",
    "plt.title(u'异常比列分布情况')\n",
    "plt.axis('equal')  # 圆形显示\n",
    "plt.show()"
   ]
  },
  {
   "cell_type": "code",
   "execution_count": 8,
   "metadata": {},
   "outputs": [],
   "source": [
    "# 初步试探分析完后我们把不需要的列删除。\n",
    "df.drop(columns = [u'纳税人编号', u'销售类型', u'销售模式', u'输出', u'正常'], inplace=True)\n",
    "# 提取列标签，用于划分因变量和自变量。\n",
    "df_col = np.array(df.columns)\n",
    "# 把数据集划分成90%的训练集，10%的测试集。\n",
    "from sklearn.model_selection import train_test_split\n",
    "\n",
    "x = df[df_col[:-1]]\n",
    "y = df[df_col[-1]]\n",
    "x_train, x_test, y_train, y_test = train_test_split(x, y, test_size = 0.1, random_state=0)"
   ]
  },
  {
   "cell_type": "markdown",
   "metadata": {},
   "source": [
    "#### 现在可以开始构建模型\n",
    ">##### *选择构建什么模型非常重要，对于初学者来说可以多尝试几种算法模型，然后比较选出最合适的。当然即使这样也并不能保证最后的模型就是最好的，因为每个模型还有参数的调整。*"
   ]
  },
  {
   "cell_type": "markdown",
   "metadata": {},
   "source": [
    "#### 一下我们来做一个实验，建立朴素贝叶斯和SVM模型，查看准确率。"
   ]
  },
  {
   "cell_type": "code",
   "execution_count": 9,
   "metadata": {},
   "outputs": [
    {
     "data": {
      "text/plain": [
       "0.6923076923076923"
      ]
     },
     "execution_count": 9,
     "metadata": {},
     "output_type": "execute_result"
    }
   ],
   "source": [
    "# 导入朴素贝叶斯函数\n",
    "from sklearn.naive_bayes import GaussianNB\n",
    "# 创建分类器，并训练分类器\n",
    "clf = GaussianNB().fit(x_train, y_train)\n",
    "# 查看分类器的准确率\n",
    "clf.score(x_test, y_test)"
   ]
  },
  {
   "cell_type": "code",
   "execution_count": 10,
   "metadata": {},
   "outputs": [
    {
     "data": {
      "text/plain": [
       "0.6923076923076923"
      ]
     },
     "execution_count": 10,
     "metadata": {},
     "output_type": "execute_result"
    }
   ],
   "source": [
    "from sklearn import svm\n",
    "from sklearn.metrics import accuracy_score\n",
    "# 创建SVM分类器，训练分类器，并测试分类器准确率\n",
    "clf = svm.SVC(kernel='linear').fit(x_train, y_train)\n",
    "pred = clf.predict(x_test)\n",
    "accuracy_score(pred, y_test)"
   ]
  },
  {
   "cell_type": "markdown",
   "metadata": {},
   "source": [
    ">##### 我们可以看到两个模型的准确率都是69.2%，对于这个结果是偏低的，所以应该考虑其他模型。针对本次项目数据的特点，我认为逻辑回归和CART决策树模型可能会更合适，下面我们来验证一下。"
   ]
  },
  {
   "cell_type": "markdown",
   "metadata": {},
   "source": [
    "### 构建逻辑回归模型"
   ]
  },
  {
   "cell_type": "code",
   "execution_count": 11,
   "metadata": {
    "scrolled": true
   },
   "outputs": [
    {
     "name": "stderr",
     "output_type": "stream",
     "text": [
      "D:\\Anaconda3531\\lib\\site-packages\\sklearn\\linear_model\\logistic.py:433: FutureWarning: Default solver will be changed to 'lbfgs' in 0.22. Specify a solver to silence this warning.\n",
      "  FutureWarning)\n"
     ]
    },
    {
     "name": "stdout",
     "output_type": "stream",
     "text": [
      "逻辑回归模型分类器的准确率为： 0.7692307692307693\n"
     ]
    },
    {
     "data": {
      "image/png": "[encoded data removed]",
      "text/plain": [
       "<Figure size 288x288 with 2 Axes>"
      ]
     },
     "metadata": {
      "needs_background": "light"
     },
     "output_type": "display_data"
    }
   ],
   "source": [
    "from sklearn.linear_model import LogisticRegression\n",
    "from sklearn.metrics import confusion_matrix, accuracy_score\n",
    "# 尝试了几次参数调整，没有得到更好的准确率，如果您通过调整参数得到了更高的准确率，希望能与我分享。\n",
    "log = LogisticRegression(C=1.0,penalty='l1').fit(x_train, y_train)\n",
    "print('逻辑回归模型分类器的准确率为：',accuracy_score(y_test, log.predict(x_test)))\n",
    "\n",
    "def cm_plt(pred):\n",
    "    conf_mat = confusion_matrix(y_train, pred) # conf_mat为分类情况的混淆矩阵\n",
    "    plt.matshow(conf_mat, cmap=plt.cm.Greens)\n",
    "    plt.colorbar()\n",
    "\n",
    "    for x in range(len(conf_mat)):\n",
    "        for y in range(len(conf_mat)):\n",
    "            plt.annotate(conf_mat[x,y], xy=(x, y), horizontalalignment='center', verticalalignment='center')\n",
    "        \n",
    "    plt.title(u'分类器混淆矩阵的可视化展示')\n",
    "    plt.ylabel('True label');\n",
    "    plt.xlabel('Predicted label');\n",
    "# 对逻辑回归模型的混淆矩阵进行可视化展示\n",
    "cm_plt(log.predict(x_train))"
   ]
  },
  {
   "cell_type": "markdown",
   "metadata": {},
   "source": [
    ">##### 本次构建的模型准确率有76.9%，较之前的有所提高，但是还不够，我决定继续构建模型，希望能找到更高准确率的模型。"
   ]
  },
  {
   "cell_type": "markdown",
   "metadata": {},
   "source": [
    "### 构建CART决策树模型"
   ]
  },
  {
   "cell_type": "code",
   "execution_count": 12,
   "metadata": {
    "scrolled": true
   },
   "outputs": [
    {
     "name": "stdout",
     "output_type": "stream",
     "text": [
      "CART决策树模型分类器的准确率为： 0.6923076923076923\n"
     ]
    },
    {
     "data": {
      "image/png": "[encoded data removed]",
      "text/plain": [
       "<Figure size 288x288 with 2 Axes>"
      ]
     },
     "metadata": {
      "needs_background": "light"
     },
     "output_type": "display_data"
    }
   ],
   "source": [
    "from sklearn.tree import DecisionTreeClassifier\n",
    "from sklearn.metrics import confusion_matrix, accuracy_score\n",
    "\n",
    "tree = DecisionTreeClassifier().fit(x_train, y_train)\n",
    "print('CART决策树模型分类器的准确率为：',accuracy_score(y_test, tree.predict(x_test)))\n",
    "\n",
    "# 对决策树训练集混淆矩阵进行可视化展示\n",
    "cm_plt(tree.predict(x_train))"
   ]
  },
  {
   "cell_type": "markdown",
   "metadata": {},
   "source": [
    ">##### 决策树模型准确率也和SVM一样。"
   ]
  },
  {
   "cell_type": "markdown",
   "metadata": {},
   "source": [
    "### 构建LM神经网络模型"
   ]
  },
  {
   "cell_type": "code",
   "execution_count": 13,
   "metadata": {},
   "outputs": [
    {
     "name": "stderr",
     "output_type": "stream",
     "text": [
      "Using TensorFlow backend.\n"
     ]
    },
    {
     "name": "stdout",
     "output_type": "stream",
     "text": [
      "WARNING:tensorflow:From D:\\Anaconda3531\\lib\\site-packages\\tensorflow\\python\\framework\\op_def_library.py:263: colocate_with (from tensorflow.python.framework.ops) is deprecated and will be removed in a future version.\n",
      "Instructions for updating:\n",
      "Colocations handled automatically by placer.\n",
      "WARNING:tensorflow:From D:\\Anaconda3531\\lib\\site-packages\\tensorflow\\python\\ops\\math_ops.py:3066: to_int32 (from tensorflow.python.ops.math_ops) is deprecated and will be removed in a future version.\n",
      "Instructions for updating:\n",
      "Use tf.cast instead.\n"
     ]
    },
    {
     "name": "stderr",
     "output_type": "stream",
     "text": [
      "D:\\Anaconda3531\\lib\\site-packages\\ipykernel_launcher.py:5: UserWarning: Update your `Dense` call to the Keras 2 API: `Dense(input_dim=25, units=10)`\n",
      "  \"\"\"\n",
      "D:\\Anaconda3531\\lib\\site-packages\\ipykernel_launcher.py:7: UserWarning: Update your `Dense` call to the Keras 2 API: `Dense(input_dim=10, units=1)`\n",
      "  import sys\n",
      "D:\\Anaconda3531\\lib\\site-packages\\ipykernel_launcher.py:11: UserWarning: The `nb_epoch` argument in `fit` has been renamed `epochs`.\n",
      "  # This is added back by InteractiveShellApp.init_path()\n"
     ]
    },
    {
     "name": "stdout",
     "output_type": "stream",
     "text": [
      "Epoch 1/100\n",
      "111/111 [==============================] - 1s 8ms/step - loss: 1.3015 - acc: 0.6306\n",
      "Epoch 2/100\n",
      "111/111 [==============================] - 0s 2ms/step - loss: 1.1033 - acc: 0.6667\n",
      "Epoch 3/100\n",
      "111/111 [==============================] - 0s 2ms/step - loss: 0.9061 - acc: 0.6757\n",
      "Epoch 4/100\n",
      "111/111 [==============================] - 0s 3ms/step - loss: 0.7708 - acc: 0.6847\n",
      "Epoch 5/100\n",
      "111/111 [==============================] - 0s 3ms/step - loss: 0.7067 - acc: 0.7117\n",
      "Epoch 6/100\n",
      "111/111 [==============================] - 0s 3ms/step - loss: 0.6650 - acc: 0.7297\n",
      "Epoch 7/100\n",
      "111/111 [==============================] - 0s 3ms/step - loss: 0.6281 - acc: 0.7027\n",
      "Epoch 8/100\n",
      "111/111 [==============================] - 0s 3ms/step - loss: 0.6002 - acc: 0.7207\n",
      "Epoch 9/100\n",
      "111/111 [==============================] - 0s 2ms/step - loss: 0.5769 - acc: 0.7387\n",
      "Epoch 10/100\n",
      "111/111 [==============================] - 0s 1ms/step - loss: 0.5538 - acc: 0.7477\n",
      "Epoch 11/100\n",
      "111/111 [==============================] - 0s 2ms/step - loss: 0.5347 - acc: 0.7568\n",
      "Epoch 12/100\n",
      "111/111 [==============================] - 0s 2ms/step - loss: 0.5196 - acc: 0.7658\n",
      "Epoch 13/100\n",
      "111/111 [==============================] - 0s 1ms/step - loss: 0.5127 - acc: 0.7748\n",
      "Epoch 14/100\n",
      "111/111 [==============================] - 0s 2ms/step - loss: 0.4955 - acc: 0.7928\n",
      "Epoch 15/100\n",
      "111/111 [==============================] - 0s 2ms/step - loss: 0.4883 - acc: 0.7748\n",
      "Epoch 16/100\n",
      "111/111 [==============================] - 0s 2ms/step - loss: 0.4813 - acc: 0.7838\n",
      "Epoch 17/100\n",
      "111/111 [==============================] - 0s 2ms/step - loss: 0.4742 - acc: 0.7838\n",
      "Epoch 18/100\n",
      "111/111 [==============================] - 0s 1ms/step - loss: 0.4673 - acc: 0.7928\n",
      "Epoch 19/100\n",
      "111/111 [==============================] - 0s 1ms/step - loss: 0.4608 - acc: 0.7928\n",
      "Epoch 20/100\n",
      "111/111 [==============================] - 0s 2ms/step - loss: 0.4574 - acc: 0.7928\n",
      "Epoch 21/100\n",
      "111/111 [==============================] - 0s 1ms/step - loss: 0.4508 - acc: 0.7928\n",
      "Epoch 22/100\n",
      "111/111 [==============================] - 0s 1ms/step - loss: 0.4454 - acc: 0.8018\n",
      "Epoch 23/100\n",
      "111/111 [==============================] - 0s 1ms/step - loss: 0.4456 - acc: 0.8108\n",
      "Epoch 24/100\n",
      "111/111 [==============================] - 0s 1ms/step - loss: 0.4373 - acc: 0.8018\n",
      "Epoch 25/100\n",
      "111/111 [==============================] - 0s 1ms/step - loss: 0.4362 - acc: 0.7928\n",
      "Epoch 26/100\n",
      "111/111 [==============================] - 0s 1ms/step - loss: 0.4330 - acc: 0.8108\n",
      "Epoch 27/100\n",
      "111/111 [==============================] - 0s 1ms/step - loss: 0.4295 - acc: 0.8108\n",
      "Epoch 28/100\n",
      "111/111 [==============================] - 0s 2ms/step - loss: 0.4278 - acc: 0.8018\n",
      "Epoch 29/100\n",
      "111/111 [==============================] - 0s 1ms/step - loss: 0.4289 - acc: 0.8018\n",
      "Epoch 30/100\n",
      "111/111 [==============================] - 0s 1ms/step - loss: 0.4221 - acc: 0.7928\n",
      "Epoch 31/100\n",
      "111/111 [==============================] - 0s 1ms/step - loss: 0.4188 - acc: 0.8198\n",
      "Epoch 32/100\n",
      "111/111 [==============================] - 0s 1ms/step - loss: 0.4226 - acc: 0.7928\n",
      "Epoch 33/100\n",
      "111/111 [==============================] - 0s 1ms/step - loss: 0.4190 - acc: 0.7928\n",
      "Epoch 34/100\n",
      "111/111 [==============================] - 0s 2ms/step - loss: 0.4133 - acc: 0.8018\n",
      "Epoch 35/100\n",
      "111/111 [==============================] - 0s 1ms/step - loss: 0.4143 - acc: 0.8018\n",
      "Epoch 36/100\n",
      "111/111 [==============================] - 0s 1ms/step - loss: 0.4098 - acc: 0.8018\n",
      "Epoch 37/100\n",
      "111/111 [==============================] - 0s 1ms/step - loss: 0.4064 - acc: 0.7928\n",
      "Epoch 38/100\n",
      "111/111 [==============================] - 0s 1ms/step - loss: 0.4050 - acc: 0.8108\n",
      "Epoch 39/100\n",
      "111/111 [==============================] - 0s 3ms/step - loss: 0.4072 - acc: 0.8108\n",
      "Epoch 40/100\n",
      "111/111 [==============================] - 0s 3ms/step - loss: 0.4034 - acc: 0.8018\n",
      "Epoch 41/100\n",
      "111/111 [==============================] - 0s 2ms/step - loss: 0.4017 - acc: 0.8018\n",
      "Epoch 42/100\n",
      "111/111 [==============================] - 0s 3ms/step - loss: 0.4007 - acc: 0.8018\n",
      "Epoch 43/100\n",
      "111/111 [==============================] - 0s 2ms/step - loss: 0.3959 - acc: 0.8018\n",
      "Epoch 44/100\n",
      "111/111 [==============================] - 0s 2ms/step - loss: 0.3917 - acc: 0.8198\n",
      "Epoch 45/100\n",
      "111/111 [==============================] - 0s 2ms/step - loss: 0.3927 - acc: 0.8108\n",
      "Epoch 46/100\n",
      "111/111 [==============================] - 0s 1ms/step - loss: 0.3922 - acc: 0.8198\n",
      "Epoch 47/100\n",
      "111/111 [==============================] - 0s 2ms/step - loss: 0.3894 - acc: 0.8198\n",
      "Epoch 48/100\n",
      "111/111 [==============================] - ETA: 0s - loss: 0.3911 - acc: 0.818 - 0s 1ms/step - loss: 0.3877 - acc: 0.8198\n",
      "Epoch 49/100\n",
      "111/111 [==============================] - 0s 2ms/step - loss: 0.3848 - acc: 0.8198\n",
      "Epoch 50/100\n",
      "111/111 [==============================] - 0s 2ms/step - loss: 0.3853 - acc: 0.8108\n",
      "Epoch 51/100\n",
      "111/111 [==============================] - 0s 2ms/step - loss: 0.3819 - acc: 0.8198\n",
      "Epoch 52/100\n",
      "111/111 [==============================] - 0s 2ms/step - loss: 0.3802 - acc: 0.8198\n",
      "Epoch 53/100\n",
      "111/111 [==============================] - 0s 1ms/step - loss: 0.3782 - acc: 0.8198\n",
      "Epoch 54/100\n",
      "111/111 [==============================] - 0s 2ms/step - loss: 0.3771 - acc: 0.8198\n",
      "Epoch 55/100\n",
      "111/111 [==============================] - 0s 1ms/step - loss: 0.3728 - acc: 0.8288\n",
      "Epoch 56/100\n",
      "111/111 [==============================] - 0s 1ms/step - loss: 0.3738 - acc: 0.8288\n",
      "Epoch 57/100\n",
      "111/111 [==============================] - 0s 1ms/step - loss: 0.3746 - acc: 0.8198\n",
      "Epoch 58/100\n",
      "111/111 [==============================] - 0s 1ms/step - loss: 0.3692 - acc: 0.8198\n",
      "Epoch 59/100\n",
      "111/111 [==============================] - 0s 1ms/step - loss: 0.3709 - acc: 0.8198\n",
      "Epoch 60/100\n",
      "111/111 [==============================] - 0s 2ms/step - loss: 0.3674 - acc: 0.8288\n",
      "Epoch 61/100\n",
      "111/111 [==============================] - 0s 1ms/step - loss: 0.3687 - acc: 0.8288\n",
      "Epoch 62/100\n",
      "111/111 [==============================] - 0s 1ms/step - loss: 0.3689 - acc: 0.8288\n",
      "Epoch 63/100\n",
      "111/111 [==============================] - 0s 1ms/step - loss: 0.3621 - acc: 0.8288\n",
      "Epoch 64/100\n",
      "111/111 [==============================] - 0s 2ms/step - loss: 0.3633 - acc: 0.8288\n",
      "Epoch 65/100\n",
      "111/111 [==============================] - 0s 1ms/step - loss: 0.3599 - acc: 0.8288\n",
      "Epoch 66/100\n",
      "111/111 [==============================] - 0s 2ms/step - loss: 0.3592 - acc: 0.8288\n",
      "Epoch 67/100\n",
      "111/111 [==============================] - 0s 1ms/step - loss: 0.3600 - acc: 0.8468\n",
      "Epoch 68/100\n",
      "111/111 [==============================] - 0s 1ms/step - loss: 0.3606 - acc: 0.8198\n",
      "Epoch 69/100\n",
      "111/111 [==============================] - 0s 2ms/step - loss: 0.3586 - acc: 0.8468\n",
      "Epoch 70/100\n",
      "111/111 [==============================] - 0s 1ms/step - loss: 0.3555 - acc: 0.8468\n",
      "Epoch 71/100\n",
      "111/111 [==============================] - 0s 2ms/step - loss: 0.3553 - acc: 0.8468\n",
      "Epoch 72/100\n",
      "111/111 [==============================] - 0s 2ms/step - loss: 0.3557 - acc: 0.8468\n",
      "Epoch 73/100\n",
      "111/111 [==============================] - 0s 1ms/step - loss: 0.3499 - acc: 0.8468\n",
      "Epoch 74/100\n",
      "111/111 [==============================] - 0s 2ms/step - loss: 0.3490 - acc: 0.8559\n",
      "Epoch 75/100\n",
      "111/111 [==============================] - 0s 3ms/step - loss: 0.3481 - acc: 0.8468\n",
      "Epoch 76/100\n",
      "111/111 [==============================] - 0s 2ms/step - loss: 0.3474 - acc: 0.8378\n",
      "Epoch 77/100\n",
      "111/111 [==============================] - 0s 2ms/step - loss: 0.3483 - acc: 0.8468\n",
      "Epoch 78/100\n",
      "111/111 [==============================] - 0s 2ms/step - loss: 0.3481 - acc: 0.8468\n",
      "Epoch 79/100\n",
      "111/111 [==============================] - 0s 2ms/step - loss: 0.3489 - acc: 0.8559\n",
      "Epoch 80/100\n",
      "111/111 [==============================] - 0s 2ms/step - loss: 0.3473 - acc: 0.8468\n",
      "Epoch 81/100\n",
      "111/111 [==============================] - 0s 2ms/step - loss: 0.3482 - acc: 0.8649\n",
      "Epoch 82/100\n",
      "111/111 [==============================] - 0s 2ms/step - loss: 0.3421 - acc: 0.8559\n",
      "Epoch 83/100\n",
      "111/111 [==============================] - 0s 1ms/step - loss: 0.3395 - acc: 0.8559\n",
      "Epoch 84/100\n",
      "111/111 [==============================] - 0s 1ms/step - loss: 0.3393 - acc: 0.8559\n",
      "Epoch 85/100\n",
      "111/111 [==============================] - 0s 1ms/step - loss: 0.3419 - acc: 0.8559\n",
      "Epoch 86/100\n",
      "111/111 [==============================] - 0s 1ms/step - loss: 0.3375 - acc: 0.8649\n",
      "Epoch 87/100\n",
      "111/111 [==============================] - 0s 1ms/step - loss: 0.3356 - acc: 0.8468\n",
      "Epoch 88/100\n",
      "111/111 [==============================] - 0s 1ms/step - loss: 0.3343 - acc: 0.8559\n",
      "Epoch 89/100\n",
      "111/111 [==============================] - 0s 2ms/step - loss: 0.3355 - acc: 0.8559\n",
      "Epoch 90/100\n",
      "111/111 [==============================] - 0s 2ms/step - loss: 0.3367 - acc: 0.8649\n",
      "Epoch 91/100\n",
      "111/111 [==============================] - 0s 1ms/step - loss: 0.3292 - acc: 0.8559\n",
      "Epoch 92/100\n",
      "111/111 [==============================] - 0s 2ms/step - loss: 0.3320 - acc: 0.8649\n",
      "Epoch 93/100\n",
      "111/111 [==============================] - 0s 2ms/step - loss: 0.3355 - acc: 0.8559\n",
      "Epoch 94/100\n",
      "111/111 [==============================] - 0s 2ms/step - loss: 0.3324 - acc: 0.8559\n",
      "Epoch 95/100\n",
      "111/111 [==============================] - 0s 2ms/step - loss: 0.3308 - acc: 0.8468\n",
      "Epoch 96/100\n",
      "111/111 [==============================] - 0s 2ms/step - loss: 0.3287 - acc: 0.8559\n",
      "Epoch 97/100\n",
      "111/111 [==============================] - 0s 1ms/step - loss: 0.3280 - acc: 0.8649\n",
      "Epoch 98/100\n",
      "111/111 [==============================] - 0s 1ms/step - loss: 0.3269 - acc: 0.8559\n",
      "Epoch 99/100\n",
      "111/111 [==============================] - 0s 1ms/step - loss: 0.3257 - acc: 0.8649\n",
      "Epoch 100/100\n",
      "111/111 [==============================] - 0s 1ms/step - loss: 0.3273 - acc: 0.8559\n"
     ]
    },
    {
     "data": {
      "image/png": "[encoded data removed]",
      "text/plain": [
       "<Figure size 288x288 with 2 Axes>"
      ]
     },
     "metadata": {
      "needs_background": "light"
     },
     "output_type": "display_data"
    }
   ],
   "source": [
    "from keras.models import Sequential\n",
    "from keras.layers.core import Dense, Activation\n",
    "# 建立神经网络\n",
    "net = Sequential()\n",
    "net.add(Dense(input_dim=25,output_dim=10))  # 添加输入层（3节点）到隐藏层（10节点）的连接\n",
    "net.add(Activation('relu'))  # 隐藏层使用relu激活函数\n",
    "net.add(Dense(input_dim=10,output_dim=1))   # 添加隐藏层到输出层的连接\n",
    "net.add(Activation('sigmoid'))  # 输出层使用sigmoid激活函数\n",
    "net.compile(loss='binary_crossentropy', optimizer='adam', metrics=['accuracy'])  # 编译模型，使用adam方法求解\n",
    "\n",
    "net.fit(x_train, y_train, nb_epoch=100, batch_size=1)\n",
    "\n",
    "cm_plt(net.predict_classes(x_train).reshape(len(x_train)))"
   ]
  },
  {
   "cell_type": "code",
   "execution_count": 14,
   "metadata": {},
   "outputs": [
    {
     "data": {
      "image/png": "[encoded data removed]",
      "text/plain": [
       "<Figure size 432x288 with 1 Axes>"
      ]
     },
     "metadata": {
      "needs_background": "light"
     },
     "output_type": "display_data"
    }
   ],
   "source": [
    "#三个模型的roc曲线\n",
    "from sklearn.metrics import roc_curve\n",
    "fig,ax=plt.subplots()\n",
    "fpr, tpr, thresholds = roc_curve(y_test, tree.predict_proba(x_test)[:,1], pos_label=1)\n",
    "fpr2, tpr2, thresholds2 = roc_curve(y_test, log.predict_proba(x_test)[:,1], pos_label=1)\n",
    "fpr3, tpr3, thresholds3 = roc_curve(y_test, net.predict(x_test).reshape(len(x_test)), pos_label=1)\n",
    "\n",
    "plt.plot(fpr, tpr, linewidth=2, label = 'ROC of CART', color = 'blue') #作出ROC曲线\n",
    "plt.plot(fpr2, tpr2, linewidth=2, label = 'ROC of LR', color = 'green') #作出ROC曲线\n",
    "plt.plot(fpr3, tpr3, linewidth=2, label = 'ROC of LM', color = 'red') #作出ROC曲线\n",
    "\n",
    "plt.xlabel('False Positive Rate') #坐标轴标签\n",
    "plt.ylabel('True Positive Rate') #坐标轴标签\n",
    "plt.ylim(0,1.05) #边界范围\n",
    "plt.xlim(0,1.05) #边界范围\n",
    "plt.legend(loc=4) #图例\n",
    "plt.show() #显示作图结果"
   ]
  },
  {
   "cell_type": "markdown",
   "metadata": {},
   "source": [
    ">##### 经对比发现，LR逻辑回归的ROC曲线比其他模型的ROC曲线更加靠近单位方形的左上角，LR逻辑回归的ROC曲线下的面积更大，说明LR逻辑回归模型的分类性能较好。"
   ]
  },
  {
   "cell_type": "markdown",
   "metadata": {},
   "source": [
    "### 结论\n",
    ">1、经过以上分析，我们发现4s店和代理商偷漏税的可能性较大，大客车和轿车是主要偷漏税车型。  \n",
    ">2、通过构建几种模型，最后得出逻辑回归模型对识别偷漏税的情况准确率最高，达到76.9%，是此次分析建议采用的模型。  \n",
    ">3、以上结论只限于对本次数据集的分析结果。因为本次分析数据集数量太少，对于构建的模型准确率影响很大，如果想要得到更好的识别模型，建议采集更多的数据。"
   ]
  }
 ],
 "metadata": {
  "kernelspec": {
   "display_name": "Python 3",
   "language": "python",
   "name": "python3"
  },
  "language_info": {
   "codemirror_mode": {
    "name": "ipython",
    "version": 3
   },
   "file_extension": ".py",
   "mimetype": "text/x-python",
   "name": "python",
   "nbconvert_exporter": "python",
   "pygments_lexer": "ipython3",
   "version": "3.7.0"
  }
 },
 "nbformat": 4,
 "nbformat_minor": 2
}
